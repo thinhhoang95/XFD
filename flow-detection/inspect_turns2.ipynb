{
 "cells": [
  {
   "cell_type": "code",
   "execution_count": 1,
   "metadata": {},
   "outputs": [],
   "source": [
    "%load_ext autoreload\n",
    "%autoreload 2"
   ]
  },
  {
   "cell_type": "code",
   "execution_count": 2,
   "metadata": {},
   "outputs": [],
   "source": [
    "import numpy as np \n",
    "import pandas as pd\n",
    "from matplotlib import pyplot as plt"
   ]
  },
  {
   "cell_type": "code",
   "execution_count": 11,
   "metadata": {},
   "outputs": [],
   "source": [
    "from potters import plot_df\n",
    "from get_turn import plot_changepoints, get_turns_and_rise_from_files\n",
    "from path_prefix import PATH_PREFIX"
   ]
  },
  {
   "cell_type": "code",
   "execution_count": 4,
   "metadata": {},
   "outputs": [
    {
     "data": {
      "text/html": [
       "<div>\n",
       "<style scoped>\n",
       "    .dataframe tbody tr th:only-of-type {\n",
       "        vertical-align: middle;\n",
       "    }\n",
       "\n",
       "    .dataframe tbody tr th {\n",
       "        vertical-align: top;\n",
       "    }\n",
       "\n",
       "    .dataframe thead th {\n",
       "        text-align: right;\n",
       "    }\n",
       "</style>\n",
       "<table border=\"1\" class=\"dataframe\">\n",
       "  <thead>\n",
       "    <tr style=\"text-align: right;\">\n",
       "      <th></th>\n",
       "      <th>time</th>\n",
       "      <th>icao24</th>\n",
       "      <th>lat</th>\n",
       "      <th>lon</th>\n",
       "      <th>velocity</th>\n",
       "      <th>heading</th>\n",
       "      <th>vertrate</th>\n",
       "      <th>callsign</th>\n",
       "      <th>onground</th>\n",
       "      <th>alert</th>\n",
       "      <th>spi</th>\n",
       "      <th>squawk</th>\n",
       "      <th>baroaltitude</th>\n",
       "      <th>geoaltitude</th>\n",
       "      <th>lastposupdate</th>\n",
       "      <th>lastcontact</th>\n",
       "    </tr>\n",
       "  </thead>\n",
       "  <tbody>\n",
       "    <tr>\n",
       "      <th>0</th>\n",
       "      <td>1649030400</td>\n",
       "      <td>7c02dc</td>\n",
       "      <td>-37.662643</td>\n",
       "      <td>145.395053</td>\n",
       "      <td>50.857154</td>\n",
       "      <td>38.840837</td>\n",
       "      <td>5.20192</td>\n",
       "      <td>AUM</td>\n",
       "      <td>False</td>\n",
       "      <td>False</td>\n",
       "      <td>False</td>\n",
       "      <td>4001.0</td>\n",
       "      <td>1615.44</td>\n",
       "      <td>1676.40</td>\n",
       "      <td>1.649030e+09</td>\n",
       "      <td>1.649030e+09</td>\n",
       "    </tr>\n",
       "    <tr>\n",
       "      <th>1</th>\n",
       "      <td>1649030400</td>\n",
       "      <td>4bcda5</td>\n",
       "      <td>51.315422</td>\n",
       "      <td>13.289487</td>\n",
       "      <td>212.396729</td>\n",
       "      <td>305.035400</td>\n",
       "      <td>NaN</td>\n",
       "      <td>SXS8VH</td>\n",
       "      <td>False</td>\n",
       "      <td>False</td>\n",
       "      <td>False</td>\n",
       "      <td>3212.0</td>\n",
       "      <td>12192.00</td>\n",
       "      <td>11818.62</td>\n",
       "      <td>1.649030e+09</td>\n",
       "      <td>1.649030e+09</td>\n",
       "    </tr>\n",
       "    <tr>\n",
       "      <th>2</th>\n",
       "      <td>1649030400</td>\n",
       "      <td>4bcc67</td>\n",
       "      <td>52.009878</td>\n",
       "      <td>10.625668</td>\n",
       "      <td>222.004883</td>\n",
       "      <td>123.469849</td>\n",
       "      <td>NaN</td>\n",
       "      <td>THY4RK</td>\n",
       "      <td>False</td>\n",
       "      <td>False</td>\n",
       "      <td>False</td>\n",
       "      <td>7601.0</td>\n",
       "      <td>7978.14</td>\n",
       "      <td>7795.26</td>\n",
       "      <td>1.649030e+09</td>\n",
       "      <td>1.649030e+09</td>\n",
       "    </tr>\n",
       "    <tr>\n",
       "      <th>3</th>\n",
       "      <td>1649030400</td>\n",
       "      <td>4bb467</td>\n",
       "      <td>51.396189</td>\n",
       "      <td>11.958468</td>\n",
       "      <td>136.096680</td>\n",
       "      <td>240.820312</td>\n",
       "      <td>NaN</td>\n",
       "      <td>MNB9346</td>\n",
       "      <td>False</td>\n",
       "      <td>False</td>\n",
       "      <td>False</td>\n",
       "      <td>3606.0</td>\n",
       "      <td>2628.90</td>\n",
       "      <td>2583.18</td>\n",
       "      <td>1.649030e+09</td>\n",
       "      <td>1.649030e+09</td>\n",
       "    </tr>\n",
       "    <tr>\n",
       "      <th>4</th>\n",
       "      <td>1649030400</td>\n",
       "      <td>4520c4</td>\n",
       "      <td>51.117604</td>\n",
       "      <td>6.894822</td>\n",
       "      <td>229.352295</td>\n",
       "      <td>258.612671</td>\n",
       "      <td>NaN</td>\n",
       "      <td>BCS55G</td>\n",
       "      <td>False</td>\n",
       "      <td>False</td>\n",
       "      <td>False</td>\n",
       "      <td>1000.0</td>\n",
       "      <td>10195.56</td>\n",
       "      <td>9989.82</td>\n",
       "      <td>1.649030e+09</td>\n",
       "      <td>1.649030e+09</td>\n",
       "    </tr>\n",
       "  </tbody>\n",
       "</table>\n",
       "</div>"
      ],
      "text/plain": [
       "         time  icao24        lat         lon    velocity     heading  \\\n",
       "0  1649030400  7c02dc -37.662643  145.395053   50.857154   38.840837   \n",
       "1  1649030400  4bcda5  51.315422   13.289487  212.396729  305.035400   \n",
       "2  1649030400  4bcc67  52.009878   10.625668  222.004883  123.469849   \n",
       "3  1649030400  4bb467  51.396189   11.958468  136.096680  240.820312   \n",
       "4  1649030400  4520c4  51.117604    6.894822  229.352295  258.612671   \n",
       "\n",
       "   vertrate  callsign  onground  alert    spi  squawk  baroaltitude  \\\n",
       "0   5.20192  AUM          False  False  False  4001.0       1615.44   \n",
       "1       NaN  SXS8VH       False  False  False  3212.0      12192.00   \n",
       "2       NaN  THY4RK       False  False  False  7601.0       7978.14   \n",
       "3       NaN  MNB9346      False  False  False  3606.0       2628.90   \n",
       "4       NaN  BCS55G       False  False  False  1000.0      10195.56   \n",
       "\n",
       "   geoaltitude  lastposupdate   lastcontact  \n",
       "0      1676.40   1.649030e+09  1.649030e+09  \n",
       "1     11818.62   1.649030e+09  1.649030e+09  \n",
       "2      7795.26   1.649030e+09  1.649030e+09  \n",
       "3      2583.18   1.649030e+09  1.649030e+09  \n",
       "4      9989.82   1.649030e+09  1.649030e+09  "
      ]
     },
     "execution_count": 4,
     "metadata": {},
     "output_type": "execute_result"
    }
   ],
   "source": [
    "df = pd.read_csv(f'{PATH_PREFIX}/data/osstate/extracted/states_2022-04-04-00.csv.gz', compression='gzip')\n",
    "df.head()"
   ]
  },
  {
   "cell_type": "code",
   "execution_count": 7,
   "metadata": {},
   "outputs": [
    {
     "name": "stdout",
     "output_type": "stream",
     "text": [
      "There are 8199 turns and 9493 rises loaded\n"
     ]
    }
   ],
   "source": [
    "# Load the .turns and .climbs file\n",
    "df_turns = pd.read_csv(f'{PATH_PREFIX}/data/osstate/routes/states_2022-04-04-00.turns')\n",
    "df_rises = pd.read_csv(f'{PATH_PREFIX}/data/osstate/routes/states_2022-04-04-00.climbs')\n",
    "print('There are {} turns and {} rises loaded'.format(len(df_turns), len(df_rises)))"
   ]
  },
  {
   "cell_type": "code",
   "execution_count": 23,
   "metadata": {},
   "outputs": [],
   "source": [
    "ident = 'AAL1373_ad6884'"
   ]
  },
  {
   "cell_type": "code",
   "execution_count": 24,
   "metadata": {},
   "outputs": [
    {
     "data": {
      "text/plain": [
       "{'tp_time': array([1.64903041e+09, 1.64903139e+09, 1.64903180e+09, 1.64903205e+09,\n",
       "        1.64903215e+09, 1.64903226e+09]),\n",
       " 'tp_lat': array([37.08151245, 35.73428914, 35.26977539, 35.01074788, 35.01329041,\n",
       "        35.09394836]),\n",
       " 'tp_lon': array([-79.22068819, -80.50787094, -80.83665848, -80.82445242,\n",
       "        -80.91369006, -80.92518086]),\n",
       " 'tp_alt': array([10496.55,  4579.62,  2689.86,  1501.14,  1203.96,   845.82]),\n",
       " 'tp_vel': array([0.20396391, 0.20396391, 0.20579882, 0.1459612 , 0.11081187,\n",
       "        0.09293702]),\n",
       " 'landed': True,\n",
       " 'ident': 'AAL1373_ad6884',\n",
       " 'dp_time': array([1.64903041e+09, 1.64903060e+09, 1.64903081e+09, 1.64903097e+09,\n",
       "        1.64903117e+09, 1.64903138e+09, 1.64903159e+09, 1.64903183e+09,\n",
       "        1.64903205e+09, 1.64903226e+09]),\n",
       " 'dp_lat': array([37.08883667, 36.82420349, 36.52478027, 36.2878418 , 36.00791931,\n",
       "        35.74804688, 35.48858643, 35.2348938 , 35.00930786, 35.09394836]),\n",
       " 'dp_lon': array([-79.21241923, -79.50977325, -79.842453  , -80.0460434 ,\n",
       "        -80.27584076, -80.49865723, -80.68393707, -80.83339691,\n",
       "        -80.82282864, -80.92518086]),\n",
       " 'dp_alt': array([10515.6 ,  9631.68,  8420.1 ,  6987.54,  5722.62,  4625.34,\n",
       "         3581.4 ,  2529.84,  1501.14,   845.82]),\n",
       " 'dp_vel': array([0.20396391, 0.21092267, 0.21937885, 0.18691245, 0.18263269,\n",
       "        0.16240142, 0.15263823, 0.13096111, 0.09219462, 0.07477156]),\n",
       " 'tp_wp': ['W95Pqv73BYg7rHI1SMmd5a1s0',\n",
       "  'WIvIB6NHCDsp7Gr931U003A1j',\n",
       "  'WR2PxmCRHjrLIJPmHHTvsRvd7',\n",
       "  'WCQCxxuxjcSlVBCwcFB7kpvsQ',\n",
       "  'WcptMSU4br35hTCW03xHMCD4g',\n",
       "  'W6psEwtyvq7ndKTLJv0bv2MbF']}"
      ]
     },
     "execution_count": 24,
     "metadata": {},
     "output_type": "execute_result"
    }
   ],
   "source": [
    "# Retrieve the TurnAndRise object corresponding to the ident\n",
    "tr = get_turns_and_rise_from_files(df_turns, df_rises, ident)\n",
    "tr"
   ]
  },
  {
   "cell_type": "code",
   "execution_count": 25,
   "metadata": {},
   "outputs": [
    {
     "data": {
      "image/png": "[encoded data removed]",
      "text/plain": [
       "<Figure size 600x600 with 1 Axes>"
      ]
     },
     "metadata": {},
     "output_type": "display_data"
    }
   ],
   "source": [
    "plot_changepoints(tr, df, ident)"
   ]
  },
  {
   "cell_type": "code",
   "execution_count": null,
   "metadata": {},
   "outputs": [],
   "source": []
  }
 ],
 "metadata": {
  "kernelspec": {
   "display_name": "tensorml",
   "language": "python",
   "name": "python3"
  },
  "language_info": {
   "codemirror_mode": {
    "name": "ipython",
    "version": 3
   },
   "file_extension": ".py",
   "mimetype": "text/x-python",
   "name": "python",
   "nbconvert_exporter": "python",
   "pygments_lexer": "ipython3",
   "version": "3.12.4"
  }
 },
 "nbformat": 4,
 "nbformat_minor": 2
}
