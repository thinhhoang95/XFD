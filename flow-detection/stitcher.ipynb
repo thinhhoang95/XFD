{
 "cells": [
  {
   "cell_type": "code",
   "execution_count": 36,
   "metadata": {},
   "outputs": [],
   "source": [
    "import numpy as np\n",
    "from matplotlib import pyplot as plt\n"
   ]
  },
  {
   "cell_type": "code",
   "execution_count": 60,
   "metadata": {},
   "outputs": [],
   "source": [
    "start_points = [-0.5, -0.25, 0, 0.4, 0.5]\n",
    "end_points = [0.25, 0.25, 0, 0.5, 0.75]"
   ]
  },
  {
   "cell_type": "code",
   "execution_count": 61,
   "metadata": {},
   "outputs": [
    {
     "data": {
      "image/png": "[encoded data removed]",
      "text/plain": [
       "<Figure size 400x200 with 1 Axes>"
      ]
     },
     "metadata": {},
     "output_type": "display_data"
    }
   ],
   "source": [
    "def plot_segments(start_points: np.ndarray, end_points: np.ndarray) -> None:\n",
    "    plt.figure(figsize=(4,2))\n",
    "    n_points = len(start_points)\n",
    "    for i in range(n_points):\n",
    "        elevation = 0.5 * i / n_points\n",
    "        plt.plot([start_points[i], end_points[i]], [elevation, elevation], 'b')\n",
    "\n",
    "    plt.ylim(-1, 5)\n",
    "    plt.show()\n",
    "\n",
    "plot_segments(np.array(start_points), np.array(end_points))\n"
   ]
  },
  {
   "cell_type": "code",
   "execution_count": 62,
   "metadata": {},
   "outputs": [],
   "source": [
    "def stitch(start_points: np.ndarray, end_points: np.ndarray, q1_eps: float, eps: float) -> np.ndarray:\n",
    "    # Concatenate start_points and end_points\n",
    "    segment_points = np.unique(np.concatenate((start_points, end_points)))\n",
    "    segment_points = np.sort(segment_points)\n",
    "\n",
    "    segments = np.array([start_points, end_points]).T\n",
    "\n",
    "    score_card = np.zeros(len(segment_points) - 1) # the last element of the score card is always 0 \n",
    "    length_card = np.zeros(len(segment_points) - 1) # the last element of the length card is always 0 because it is not populated\n",
    "\n",
    "    for i in range(len(segment_points) - 1):\n",
    "        score = 0\n",
    "        segment_start = segment_points[i]\n",
    "        segment_end = segment_points[i+1]\n",
    "        \n",
    "        # Segment score is the number of segments that contain the segment\n",
    "        for j in range(len(segments)):\n",
    "            if segment_start >= segments[j][0] and segment_end <= segments[j][1]:\n",
    "                score += 1\n",
    "        score_card[i] = score\n",
    "\n",
    "        # Segment length is the length of the segment\n",
    "        length_card[i] = segment_end - segment_start\n",
    "\n",
    "    \n",
    "    # Tolerating zero score segments: computing length threshold\n",
    "    if q1_eps is not None:\n",
    "        # Use statistical threshold values\n",
    "        q1_value = np.percentile(score_card, 25)\n",
    "        zss_segment_thr = q1_value * q1_eps\n",
    "    \n",
    "    elif eps is not None:\n",
    "        zss_segment_thr = eps\n",
    "    \n",
    "    else:\n",
    "        raise ValueError(\"Either q1_eps or eps must be provided to provide tolerance for zero score segments (ZSS)\")\n",
    "\n",
    "\n",
    "    # Tolerating zero score segments: score improvement for tolerated segments\n",
    "    for i in range(len(score_card)):\n",
    "        if score_card[i] == 0:\n",
    "            if length_card[i] < zss_segment_thr and i >= 1:\n",
    "                score_card[i] = score_card[i-1]\n",
    "\n",
    "    # Find the starting point and ending point of the longest non-zero score segment\n",
    "    max_segment_length = 0\n",
    "    max_segment_start = 0\n",
    "    max_segment_end = 0\n",
    "    current_segment_length = 0\n",
    "    current_segment_start = 0\n",
    "    current_segment_end = 0\n",
    "    for i in range(len(score_card)):\n",
    "        if score_card[i] != 0:\n",
    "            current_segment_length += 1\n",
    "            current_segment_end = i + 1\n",
    "        else: # score_card[i] == 0\n",
    "            if current_segment_length > max_segment_length:\n",
    "                max_segment_length = current_segment_length\n",
    "                max_segment_start = current_segment_start\n",
    "                max_segment_end = current_segment_end\n",
    "            current_segment_length = 0\n",
    "            current_segment_start = i + 1\n",
    "            current_segment_end = i + 1\n",
    "\n",
    "    if current_segment_length > max_segment_length:\n",
    "        max_segment_length = current_segment_length\n",
    "        max_segment_start = current_segment_start\n",
    "        max_segment_end = current_segment_end\n",
    "\n",
    "    return segment_points[max_segment_start:max_segment_end]"
   ]
  },
  {
   "cell_type": "code",
   "execution_count": 63,
   "metadata": {},
   "outputs": [
    {
     "data": {
      "text/plain": [
       "array([-0.5 , -0.25,  0.  ])"
      ]
     },
     "execution_count": 63,
     "metadata": {},
     "output_type": "execute_result"
    }
   ],
   "source": [
    "stitched_points = stitch(np.array(start_points), np.array(end_points), q1_eps=0.1, eps=None)\n",
    "stitched_points"
   ]
  },
  {
   "cell_type": "code",
   "execution_count": null,
   "metadata": {},
   "outputs": [],
   "source": []
  }
 ],
 "metadata": {
  "kernelspec": {
   "display_name": "tensorml",
   "language": "python",
   "name": "python3"
  },
  "language_info": {
   "codemirror_mode": {
    "name": "ipython",
    "version": 3
   },
   "file_extension": ".py",
   "mimetype": "text/x-python",
   "name": "python",
   "nbconvert_exporter": "python",
   "pygments_lexer": "ipython3",
   "version": "3.11.6"
  }
 },
 "nbformat": 4,
 "nbformat_minor": 2
}
