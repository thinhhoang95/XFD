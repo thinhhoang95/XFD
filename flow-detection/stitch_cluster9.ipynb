{
 "cells": [
  {
   "cell_type": "code",
   "execution_count": 1,
   "metadata": {},
   "outputs": [],
   "source": [
    "%load_ext autoreload\n",
    "%autoreload 2"
   ]
  },
  {
   "cell_type": "code",
   "execution_count": 2,
   "metadata": {},
   "outputs": [],
   "source": [
    "import numpy as np\n",
    "from matplotlib import pyplot as plt\n",
    "import pandas as pd"
   ]
  },
  {
   "cell_type": "markdown",
   "metadata": {},
   "source": [
    "The beginning of this notebook is somewhat similar to `viz_segment6.ipynb` because it loads up the turning points and the hash codes."
   ]
  },
  {
   "cell_type": "code",
   "execution_count": 3,
   "metadata": {},
   "outputs": [
    {
     "name": "stdout",
     "output_type": "stream",
     "text": [
      "There are 19466 rows\n"
     ]
    },
    {
     "data": {
      "text/html": [
       "<div>\n",
       "<style scoped>\n",
       "    .dataframe tbody tr th:only-of-type {\n",
       "        vertical-align: middle;\n",
       "    }\n",
       "\n",
       "    .dataframe tbody tr th {\n",
       "        vertical-align: top;\n",
       "    }\n",
       "\n",
       "    .dataframe thead th {\n",
       "        text-align: right;\n",
       "    }\n",
       "</style>\n",
       "<table border=\"1\" class=\"dataframe\">\n",
       "  <thead>\n",
       "    <tr style=\"text-align: right;\">\n",
       "      <th></th>\n",
       "      <th>wpf</th>\n",
       "      <th>wpt</th>\n",
       "      <th>hash</th>\n",
       "    </tr>\n",
       "  </thead>\n",
       "  <tbody>\n",
       "    <tr>\n",
       "      <th>0</th>\n",
       "      <td>BdqjF4kdoWuF</td>\n",
       "      <td>FEQqm0pwCiHB</td>\n",
       "      <td>06355708377841511e89a4d57999c81ca8f7ac7d3ad371...</td>\n",
       "    </tr>\n",
       "    <tr>\n",
       "      <th>1</th>\n",
       "      <td>fsfzvUfF161g</td>\n",
       "      <td>g8jG0jNTYLWh</td>\n",
       "      <td>8635571817e841751e89a4c579ddc89c88f6a8753a1351...</td>\n",
       "    </tr>\n",
       "    <tr>\n",
       "      <th>2</th>\n",
       "      <td>TizH2bRw7vGs</td>\n",
       "      <td>xzpBLhCfzUsF</td>\n",
       "      <td>8225571897e841751f09a4c779dd889c88f6a8753a1211...</td>\n",
       "    </tr>\n",
       "    <tr>\n",
       "      <th>3</th>\n",
       "      <td>EThpIE3IBmHj</td>\n",
       "      <td>GPvokn2TQRgr</td>\n",
       "      <td>f044a2d69c87bf3e57775a2ab6f424ea55bc43031d2c8e...</td>\n",
       "    </tr>\n",
       "    <tr>\n",
       "      <th>4</th>\n",
       "      <td>uQXbsh0Pt5dR</td>\n",
       "      <td>Hoalau7wsbpF</td>\n",
       "      <td>f024335694c72f3457537aa637f404ea55bcc013192c8a...</td>\n",
       "    </tr>\n",
       "  </tbody>\n",
       "</table>\n",
       "</div>"
      ],
      "text/plain": [
       "            wpf           wpt  \\\n",
       "0  BdqjF4kdoWuF  FEQqm0pwCiHB   \n",
       "1  fsfzvUfF161g  g8jG0jNTYLWh   \n",
       "2  TizH2bRw7vGs  xzpBLhCfzUsF   \n",
       "3  EThpIE3IBmHj  GPvokn2TQRgr   \n",
       "4  uQXbsh0Pt5dR  Hoalau7wsbpF   \n",
       "\n",
       "                                                hash  \n",
       "0  06355708377841511e89a4d57999c81ca8f7ac7d3ad371...  \n",
       "1  8635571817e841751e89a4c579ddc89c88f6a8753a1351...  \n",
       "2  8225571897e841751f09a4c779dd889c88f6a8753a1211...  \n",
       "3  f044a2d69c87bf3e57775a2ab6f424ea55bc43031d2c8e...  \n",
       "4  f024335694c72f3457537aa637f404ea55bcc013192c8a...  "
      ]
     },
     "execution_count": 3,
     "metadata": {},
     "output_type": "execute_result"
    }
   ],
   "source": [
    "# Load the hash_master file\n",
    "hash_df = pd.read_csv('../data/osstate/routes_hashes/hash_master.hashb', header=None, names=['wpf', 'wpt', 'hash'])\n",
    "print(f\"There are {len(hash_df)} rows\")\n",
    "hash_df.head()"
   ]
  },
  {
   "cell_type": "code",
   "execution_count": 4,
   "metadata": {},
   "outputs": [
    {
     "name": "stdout",
     "output_type": "stream",
     "text": [
      "Number of unique hashes: 470\n"
     ]
    }
   ],
   "source": [
    "hash_unique = hash_df['hash'].unique()\n",
    "print('Number of unique hashes:', len(hash_unique))"
   ]
  },
  {
   "cell_type": "code",
   "execution_count": 5,
   "metadata": {},
   "outputs": [
    {
     "data": {
      "text/plain": [
       "hash\n",
       "f04432569487bf3e57775a2ab7f404ea55bcc1131d2c8ebaeadfc8e121934e9e8663f26847fdcc27c9cfeee8a76abeec7e39d55c7973cc99467abfc5_6f5    1776\n",
       "8635570817e841751e89a4c579ddc89c88f6a8753a535102254d648c7c5e0511d53e836fdac2f7e7f287523e991367faccc70bc100d2749b261d10da_8b3     691\n",
       "8225571897e041751f09a4c779dd889c88f6a8753a101102254d64907c5e0511d56ec36fdec2e7e7f287d63e991b77facc470bc029d2749b061f12db_8f3     575\n",
       "8635571817e841751e89a4c579ddc89c88f6a8753a135102254d649c7c5e0511d53ec36fdec2f7e7f287d23e991b77faccc70bc109d2749b261d10da_8b3     552\n",
       "8225571a97c041751f49a4c779dd8cfc98fee87538101382255d64907f5a0413d76ed36bdef2e7a7e287d63e994b76face470b5029d25c9b061e12db_8f3     552\n",
       "8225571897e841751f09a4c779dd889c88f6a8753a121102254d64907c5e0511d56ec36fdec2e7e7f287d63e991b77facc470bc029d2749b061f12db_8f3     527\n",
       "06355718176841711e89a4c559ddc89ca8f6a8753a535102254d649c7e5e1511d53e836fdac2f7e7f287523e991367faccc70bc100d2749b261d10da_8b3     463\n",
       "a225571e97c043751741a4877ddd8cfcd8bee8773810129225dd64907d5a0413d766d36b5ff6e6a7e287d6be994b7eface434b5829d25c9b061e13df_cf3     432\n",
       "86355718176841751e89a4c579ddc89c88f6a8753a535102254d649c7e5e0511d53e836fdec2f7e7f287523e991b67faccc70bc109d2749b261d10da_8b3     379\n",
       "e025375697c04f3417412ea637f504fcd8bec853390012b264dd64b0655a4613d666f36b57f7e6a7e2cfe6be896bfef84e414f5c29d3cc9b061e97c5_6f5     379\n",
       "Name: count, dtype: int64"
      ]
     },
     "execution_count": 5,
     "metadata": {},
     "output_type": "execute_result"
    }
   ],
   "source": [
    "# Rank the hashes by the number of times they appear\n",
    "hash_counts = hash_df['hash'].value_counts()\n",
    "hash_counts = hash_counts.sort_values(ascending=False)\n",
    "hash_counts.head(10)\n"
   ]
  },
  {
   "cell_type": "code",
   "execution_count": 6,
   "metadata": {},
   "outputs": [
    {
     "data": {
      "text/html": [
       "<div>\n",
       "<style scoped>\n",
       "    .dataframe tbody tr th:only-of-type {\n",
       "        vertical-align: middle;\n",
       "    }\n",
       "\n",
       "    .dataframe tbody tr th {\n",
       "        vertical-align: top;\n",
       "    }\n",
       "\n",
       "    .dataframe thead th {\n",
       "        text-align: right;\n",
       "    }\n",
       "</style>\n",
       "<table border=\"1\" class=\"dataframe\">\n",
       "  <thead>\n",
       "    <tr style=\"text-align: right;\">\n",
       "      <th></th>\n",
       "      <th>ident</th>\n",
       "      <th>lat</th>\n",
       "      <th>lon</th>\n",
       "    </tr>\n",
       "  </thead>\n",
       "  <tbody>\n",
       "    <tr>\n",
       "      <th>0</th>\n",
       "      <td>H882U2Xn5VOd</td>\n",
       "      <td>50.404884</td>\n",
       "      <td>-98.626030</td>\n",
       "    </tr>\n",
       "    <tr>\n",
       "      <th>1</th>\n",
       "      <td>P8ToOqoOwy3c</td>\n",
       "      <td>32.375521</td>\n",
       "      <td>130.663520</td>\n",
       "    </tr>\n",
       "    <tr>\n",
       "      <th>2</th>\n",
       "      <td>oZYSGKN80id2</td>\n",
       "      <td>41.086054</td>\n",
       "      <td>-77.855456</td>\n",
       "    </tr>\n",
       "    <tr>\n",
       "      <th>3</th>\n",
       "      <td>uPuRzZYavxw1</td>\n",
       "      <td>40.908554</td>\n",
       "      <td>-78.007263</td>\n",
       "    </tr>\n",
       "    <tr>\n",
       "      <th>4</th>\n",
       "      <td>lEf9PODPqPxe</td>\n",
       "      <td>40.573301</td>\n",
       "      <td>-78.509674</td>\n",
       "    </tr>\n",
       "  </tbody>\n",
       "</table>\n",
       "</div>"
      ],
      "text/plain": [
       "          ident        lat         lon\n",
       "0  H882U2Xn5VOd  50.404884  -98.626030\n",
       "1  P8ToOqoOwy3c  32.375521  130.663520\n",
       "2  oZYSGKN80id2  41.086054  -77.855456\n",
       "3  uPuRzZYavxw1  40.908554  -78.007263\n",
       "4  lEf9PODPqPxe  40.573301  -78.509674"
      ]
     },
     "execution_count": 6,
     "metadata": {},
     "output_type": "execute_result"
    }
   ],
   "source": [
    "# Load the waypoints_master file\n",
    "wp_df = pd.read_csv('../data/osstate/waypoints_master.csv')\n",
    "wp_df.head()"
   ]
  },
  {
   "cell_type": "markdown",
   "metadata": {},
   "source": [
    "# Stitching for CONUS"
   ]
  },
  {
   "cell_type": "code",
   "execution_count": 7,
   "metadata": {},
   "outputs": [],
   "source": [
    "region = 'conus'\n",
    "def get_region_bounds(region: str) -> tuple:\n",
    "    # Get the geographical boundaries for the map \n",
    "    if region=='conus':\n",
    "        # Contiguous United States\n",
    "        lat_bounds = [23, 51]\n",
    "        lon_bounds = [-130, -65]\n",
    "    elif region=='europe':\n",
    "        # Europe, from Portugal to Greece, not including Russia\n",
    "        lat_bounds = [34, 72]        \n",
    "        lon_bounds = [-32, 40]\n",
    "    else:\n",
    "        raise ValueError(f\"Region {region} not recognized. Use 'conus' or 'europe'.\")\n",
    "    \n",
    "    return lat_bounds, lon_bounds\n",
    "\n",
    "lat_bounds, lon_bounds = get_region_bounds(region)"
   ]
  },
  {
   "cell_type": "code",
   "execution_count": 23,
   "metadata": {},
   "outputs": [
    {
     "name": "stderr",
     "output_type": "stream",
     "text": [
      "/tmp/ipykernel_14102/3958555002.py:53: FutureWarning: This function is deprecated. See: https://pyproj4.github.io/pyproj/stable/gotchas.html#upgrading-to-pyproj-2-from-pyproj-1\n",
      "  wpf_x, wpf_y = transform(inProj, outProj, wpf_lons, wpf_lats, always_xy=True)\n",
      "/tmp/ipykernel_14102/3958555002.py:54: FutureWarning: This function is deprecated. See: https://pyproj4.github.io/pyproj/stable/gotchas.html#upgrading-to-pyproj-2-from-pyproj-1\n",
      "  wpt_x, wpt_y = transform(inProj, outProj, wpt_lons, wpt_lats, always_xy=True)\n"
     ]
    },
    {
     "name": "stdout",
     "output_type": "stream",
     "text": [
      "Expected seg_start: 617029.6375266847\n",
      "Expected seg_end: 3000091.5016088816\n",
      "Result:  11 -1 -1 44\n",
      "For debugging: sm_start:  [1939580.774578999, 2285195.291627705]\n",
      "For debugging: ending_points[sm_e] (holds if last element is not -1) 3000091.5016088816\n",
      "sm_end:  [88558.57396891614, 783891.385730682]\n"
     ]
    },
    {
     "data": {
      "image/png": "[encoded data removed]",
      "text/plain": [
       "<Figure size 300x300 with 1 Axes>"
      ]
     },
     "metadata": {},
     "output_type": "display_data"
    },
    {
     "data": {
      "image/png": "[encoded data removed]",
      "text/plain": [
       "<Figure size 300x300 with 1 Axes>"
      ]
     },
     "metadata": {},
     "output_type": "display_data"
    },
    {
     "data": {
      "image/png": "[encoded data removed]",
      "text/plain": [
       "<Figure size 300x300 with 1 Axes>"
      ]
     },
     "metadata": {},
     "output_type": "display_data"
    }
   ],
   "source": [
    "from tqdm import tqdm\n",
    "from pyproj import Proj, transform\n",
    "from stitcher import stitch\n",
    "\n",
    "import warnings\n",
    "warnings.simplefilter(\"error\", RuntimeWarning)\n",
    "\n",
    "color_codes = ['b', 'g', 'r', 'c', 'm', 'y', 'k']\n",
    "\n",
    "def get_flow(hash_no: int, hash_df: pd.DataFrame, wp_df: pd.DataFrame, region = 'conus', n_segments_to_sample = 50) -> None:\n",
    "\n",
    "    # Get the top n_plots hash values\n",
    "    hash_values = hash_counts.head(128).index\n",
    "\n",
    "    # Get the hash code corresponding to the hash_no\n",
    "    hash_value = hash_values[hash_no]\n",
    "\n",
    "    # Get the data frame for this hash value\n",
    "    hash_df_i = hash_df[hash_df['hash'] == hash_value]\n",
    "\n",
    "    # If hash_df_i has more than 20 rows, sample 20 rows\n",
    "    \n",
    "    if len(hash_df_i) > n_segments_to_sample:\n",
    "        hash_df_i = hash_df_i.sample(n_segments_to_sample)\n",
    "\n",
    "    # Get the waypoints\n",
    "    wpf = hash_df_i['wpf'].values\n",
    "    wpt = hash_df_i['wpt'].values\n",
    "\n",
    "    wpf_lats = np.zeros(len(wpf))\n",
    "    wpf_lons = np.zeros(len(wpf))\n",
    "    wpt_lats = np.zeros(len(wpt))\n",
    "    wpt_lons = np.zeros(len(wpt))\n",
    "\n",
    "    # Get the latitude and longitude of the waypoints\n",
    "    for j in range(len(wpf)):\n",
    "        wpf_lon = wp_df[wp_df['ident'] == wpf[j]]['lon'].values[0]\n",
    "        wpf_lat = wp_df[wp_df['ident'] == wpf[j]]['lat'].values[0]\n",
    "        wpt_lon = wp_df[wp_df['ident'] == wpt[j]]['lon'].values[0]\n",
    "        wpt_lat = wp_df[wp_df['ident'] == wpt[j]]['lat'].values[0]\n",
    "        wpf_lats[j] = wpf_lat\n",
    "        wpf_lons[j] = wpf_lon\n",
    "        wpt_lats[j] = wpt_lat\n",
    "        wpt_lons[j] = wpt_lon\n",
    "\n",
    "    # Convert latitude and longitude to x and y using pyproj\n",
    "    inProj = Proj('epsg:4326')\n",
    "    outProj = Proj('epsg:5070')\n",
    "    # transformer = Transformer.from_crs('epsg:4326', 'epsg:5070')\n",
    "    # wpf_x, wpf_y = transformer.transform(wpf_lons, wpf_lats)\n",
    "    # wpt_x, wpt_y = transformer.transform(wpt_lons, wpt_lats)\n",
    "    # PyProj1 is deprecated\n",
    "    wpf_x, wpf_y = transform(inProj, outProj, wpf_lons, wpf_lats, always_xy=True)\n",
    "    wpt_x, wpt_y = transform(inProj, outProj, wpt_lons, wpt_lats, always_xy=True)\n",
    "\n",
    "    wpft_length = np.sqrt((wpt_x - wpf_x)**2 + (wpt_y - wpf_y)**2)\n",
    "\n",
    "    # Pick the longest segment to calculate the flow angle and reorient the segments\n",
    "    longest_segment_index = np.argmax(wpft_length)\n",
    "\n",
    "    # INVERT THE SEGMENTS SO THAT ALL SEGMENTS FLOW IN THE SAME DIRECTION WITH THE LONGEST SEGMENT\n",
    "    segment_x = wpt_x - wpf_x\n",
    "    segment_y = wpt_y - wpf_y\n",
    "\n",
    "    segment_longest_x = segment_x[longest_segment_index]\n",
    "    segment_longest_y = segment_y[longest_segment_index]\n",
    "\n",
    "    # We take the sign of the dot product between each segment and the longest segment\n",
    "    # If the sign is positive, the segment is in the same direction as the longest segment\n",
    "    # If the sign is negative, the segment is in the opposite direction as the longest segment\n",
    "    dp = segment_x * segment_longest_x + segment_y * segment_longest_y\n",
    "    dp_sign = np.sign(dp)\n",
    "    # Where dp_sign is 0, we set it to 1\n",
    "    dp_sign[dp_sign == 0] = 1\n",
    "    segment_x = segment_x * dp_sign\n",
    "    segment_y = segment_y * dp_sign\n",
    "\n",
    "    wpt_x = (wpf_x + segment_x).copy()\n",
    "    wpt_y = (wpf_y + segment_y).copy()\n",
    "\n",
    "    # FLOW ANGLE REORIENTATION\n",
    "    flow_rotation_center = np.array([wpf_x[longest_segment_index], wpf_y[longest_segment_index]])\n",
    "    flow_angle = -np.arctan2(wpt_y[longest_segment_index] - wpf_y[longest_segment_index], wpt_x[longest_segment_index] - wpf_x[longest_segment_index])\n",
    "    starting_points = (wpf_x - flow_rotation_center[0]) * np.cos(flow_angle) - (wpf_y - flow_rotation_center[1]) * np.sin(flow_angle) + flow_rotation_center[0]\n",
    "    #starting_points_y = (wpf_x - flow_rotation_center[0]) * np.sin(flow_angle) + (wpf_y - flow_rotation_center[1]) * np.cos(flow_angle) + flow_rotation_center[1]\n",
    "    ending_points = (wpt_x - flow_rotation_center[0]) * np.cos(flow_angle) - (wpt_y - flow_rotation_center[1]) * np.sin(flow_angle) + flow_rotation_center[0]\n",
    "    #ending_points_y = (wpt_x - flow_rotation_center[0]) * np.sin(flow_angle) + (wpt_y - flow_rotation_center[1]) * np.cos(flow_angle) + flow_rotation_center[1]\n",
    "    # ending_points = wpf_x + (wpt_x - wpf_x) * np.cos(flow_angle) - (wpt_y - wpf_y) * np.sin(flow_angle)\n",
    "\n",
    "    # For each pair of starting_point and ending_point, swap them if the starting_point is greater than the ending_point\n",
    "    for i in range(len(starting_points)):\n",
    "        if starting_points[i] > ending_points[i]:\n",
    "            starting_points[i], ending_points[i] = ending_points[i], starting_points[i]\n",
    "\n",
    "    # STITCH THE SEGMENTS USING STITCHER\n",
    "    # ss: start in the starting_points, se: start in the ending_points, es: end in the starting_points, ee: end in the ending_points\n",
    "    sm_ss, sm_se, sm_es, sm_ee = stitch(starting_points, ending_points, eps=1e6)\n",
    "    sm_s = sm_ss if sm_se == -1 else sm_se\n",
    "    sm_e = sm_es if sm_ee == -1 else sm_ee\n",
    "\n",
    "    print(f\"Result: \", sm_ss, sm_se, sm_es, sm_ee)\n",
    "\n",
    "    wpfx = wpf_x if sm_se == -1 else wpt_x\n",
    "    wpfy = wpf_y if sm_se == -1 else wpt_y\n",
    "    wptx = wpf_x if sm_ee == -1 else wpt_x\n",
    "    wpty = wpf_y if sm_ee == -1 else wpt_y\n",
    "\n",
    "    sm_start = [wpfx[sm_s], wpfy[sm_s]]\n",
    "    sm_end = [wptx[sm_e], wpty[sm_e]]\n",
    "\n",
    "    stpx = starting_points[sm_s]\n",
    "    edpx = ending_points[sm_e]\n",
    "\n",
    "    print('For debugging: sm_start: ', sm_start)\n",
    "    print('For debugging: ending_points[sm_e] (holds if last element is not -1)', ending_points[sm_e])\n",
    "    print('sm_end: ', sm_end)\n",
    "\n",
    "    # Plot the original segments\n",
    "    plt.figure(figsize=(3, 3))\n",
    "    plt.quiver(wpf_x, wpf_y, wpt_x-wpf_x, wpt_y-wpf_y, scale=1, scale_units='xy', angles='xy')\n",
    "    plt.plot([sm_start[0], sm_end[0]], [sm_start[1], sm_end[1]], color='red', linewidth=0.5)\n",
    "    # equal aspect ratio\n",
    "    plt.axis('equal')\n",
    "\n",
    "    # Plot the rotated segments\n",
    "    plt.figure(figsize=(3, 3)) \n",
    "    plt.quiver(starting_points, np.zeros(len(starting_points)), ending_points-starting_points, np.zeros(len(starting_points)), scale=1, scale_units='xy', angles='xy')\n",
    "    # equal aspect ratio\n",
    "    plt.axis('equal')\n",
    "\n",
    "    # Plot the projected segments\n",
    "    plt.figure(figsize=(3, 3))\n",
    "    plt.plot([starting_points, ending_points], [0, 0], color='black', linewidth=0.5)\n",
    "    plt.plot([stpx, edpx], [0, 0], color='red', linewidth=0.5)\n",
    "\n",
    "    pass\n",
    "\n",
    "get_flow(3, hash_df, wp_df, region = 'conus', n_segments_to_sample = 50)\n"
   ]
  },
  {
   "cell_type": "code",
   "execution_count": null,
   "metadata": {},
   "outputs": [],
   "source": []
  }
 ],
 "metadata": {
  "kernelspec": {
   "display_name": "tensorml",
   "language": "python",
   "name": "python3"
  },
  "language_info": {
   "codemirror_mode": {
    "name": "ipython",
    "version": 3
   },
   "file_extension": ".py",
   "mimetype": "text/x-python",
   "name": "python",
   "nbconvert_exporter": "python",
   "pygments_lexer": "ipython3",
   "version": "3.11.6"
  }
 },
 "nbformat": 4,
 "nbformat_minor": 2
}
